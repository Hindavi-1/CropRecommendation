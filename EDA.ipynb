{
 "cells": [
  {
   "cell_type": "code",
   "execution_count": null,
   "id": "37413a50",
   "metadata": {},
   "outputs": [],
   "source": [
    "import pandas as pd\n",
    "import matplotlib.pyplot as plt\n",
    "import seaborn as sns"
   ]
  },
  {
   "cell_type": "code",
   "execution_count": null,
   "id": "3e1b2d24",
   "metadata": {},
   "outputs": [],
   "source": [
    "# Load dataset\n",
    "df = pd.read_csv('Crop_recommendation.csv')"
   ]
  },
  {
   "cell_type": "code",
   "execution_count": null,
   "id": "12bccd38",
   "metadata": {},
   "outputs": [],
   "source": [
    "# First few rows\n",
    "print(df.head())\n",
    "\n",
    "# Dataset shape (rows, columns)\n",
    "print(\"Shape:\", df.shape)\n",
    "\n",
    "# Column data types and non-null count\n",
    "print(df.info())\n",
    "\n",
    "# Statistical summary\n",
    "print(df.describe())\n",
    "\n",
    "# Unique crop labels\n",
    "print(\"Unique Crops:\", df['label'].unique())\n"
   ]
  },
  {
   "cell_type": "code",
   "execution_count": null,
   "id": "151560a1",
   "metadata": {},
   "outputs": [],
   "source": [
    "print(df.isnull().sum())"
   ]
  },
  {
   "cell_type": "code",
   "execution_count": null,
   "id": "7feeb801",
   "metadata": {},
   "outputs": [],
   "source": [
    "# Count of each crop class\n",
    "plt.figure(figsize=(12, 6))\n",
    "sns.countplot(y='label', data=df, order=df['label'].value_counts().index)\n",
    "plt.title(\"Crop Distribution\")\n",
    "plt.show()\n"
   ]
  },
  {
   "cell_type": "code",
   "execution_count": null,
   "id": "73863642",
   "metadata": {},
   "outputs": [],
   "source": [
    "# Feature Distributions\n",
    "df.drop('label', axis=1).hist(bins=20, figsize=(15, 10), color='skyblue')\n",
    "plt.suptitle(\"Distribution of Numerical Features\", fontsize=16)\n",
    "plt.show()"
   ]
  },
  {
   "cell_type": "code",
   "execution_count": null,
   "id": "1be0ea55",
   "metadata": {},
   "outputs": [],
   "source": [
    "#Boxplots for Outliers\n",
    "\n",
    "features = ['N', 'P', 'K', 'temperature', 'humidity', 'ph', 'rainfall']\n",
    "for feature in features:\n",
    "    plt.figure(figsize=(6, 3))\n",
    "    sns.boxplot(x=df[feature])\n",
    "    plt.title(f\"Boxplot of {feature}\")\n",
    "    plt.show()"
   ]
  },
  {
   "cell_type": "code",
   "execution_count": null,
   "id": "62f6cebf",
   "metadata": {},
   "outputs": [],
   "source": []
  }
 ],
 "metadata": {
  "kernelspec": {
   "display_name": "Python (tensorflow_env1)",
   "language": "python",
   "name": "tensorflow_env1"
  },
  "language_info": {
   "name": "python",
   "version": "3.10.18"
  }
 },
 "nbformat": 4,
 "nbformat_minor": 5
}
